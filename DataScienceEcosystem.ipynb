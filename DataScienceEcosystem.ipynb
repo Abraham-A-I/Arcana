{
 "cells": [
  {
   "cell_type": "markdown",
   "id": "0389e396-34b4-4135-b802-d3c8b0e92cf2",
   "metadata": {},
   "source": [
    "# Data Science Tools and Ecosystem"
   ]
  },
  {
   "cell_type": "markdown",
   "id": "2820dacc-8727-4ee4-ae70-570afcd4034b",
   "metadata": {},
   "source": [
    "In this notebook, Data Science Tools and Ecosystem are summarized."
   ]
  },
  {
   "cell_type": "markdown",
   "id": "7698915a-c61e-4fdf-9172-1aedde263f51",
   "metadata": {},
   "source": [
    "## Objectives:\n",
    "1.List popular languages for Data Science\n",
    "\n",
    "2.Some of the commonly used libraries       used by Data Scientists\n",
    "\n",
    "3.Simple arithmetic expression\n",
    "\n",
    "\n"
   ]
  },
  {
   "cell_type": "markdown",
   "id": "e4e6d2f4-f2d2-4841-a99d-1230804da892",
   "metadata": {},
   "source": [
    "Some of the popular languages that Data Scientists use are:\n",
    "1. Python\n",
    "2. R\n",
    "3. SQL\n",
    "\n"
   ]
  },
  {
   "cell_type": "markdown",
   "id": "442a1aeb-f256-4be5-b8b8-533744b00273",
   "metadata": {},
   "source": [
    "Some of the commonly used libraries used by Data Scientists include:\n",
    "1. NumPy\n",
    "2. Pandas\n",
    "3. NumPy"
   ]
  },
  {
   "cell_type": "markdown",
   "id": "81e69a5d-49f7-4604-8a80-2cf88f91c10e",
   "metadata": {},
   "source": [
    "|  Data Science Tools |\n",
    "|:--------------:|\n",
    "| Jupiter Notebook |\n",
    "| RStudio |\n",
    "| Visual Studio Code |"
   ]
  },
  {
   "cell_type": "markdown",
   "id": "c33aba80-677a-49fb-b0e3-deb5a287c952",
   "metadata": {},
   "source": [
    "### Below are a few examples of evaluating arithmetic expressions in Python"
   ]
  },
  {
   "cell_type": "code",
   "execution_count": 2,
   "id": "3a09a40f-b604-4839-9ec4-728e194e1ed5",
   "metadata": {},
   "outputs": [
    {
     "data": {
      "text/plain": [
       "17"
      ]
     },
     "execution_count": 2,
     "metadata": {},
     "output_type": "execute_result"
    }
   ],
   "source": [
    "#  This a simple arithmetic expression to mutiply then add integers\n",
    "(3*4)+5"
   ]
  },
  {
   "cell_type": "markdown",
   "id": "ed91f30d-f353-4655-acce-05cf5b0b7654",
   "metadata": {},
   "source": [
    "# This will convert 200 minutes to hours by diving by 60."
   ]
  },
  {
   "cell_type": "code",
   "execution_count": 3,
   "id": "bfbda38d-1cea-4da9-9b37-c2ec5ba7d268",
   "metadata": {},
   "outputs": [
    {
     "name": "stdout",
     "output_type": "stream",
     "text": [
      "3.3333333333333335\n"
     ]
    }
   ],
   "source": [
    "minutes = 200\n",
    "hours = minutes / 60\n",
    "print(hours)"
   ]
  },
  {
   "cell_type": "markdown",
   "id": "5a14de86-955e-4669-ae1b-fc9d3cab7175",
   "metadata": {},
   "source": [
    "## Author\n",
    "Abraham A."
   ]
  },
  {
   "cell_type": "code",
   "execution_count": null,
   "id": "e072fe38-0c8c-4515-9b4e-3a190d31117a",
   "metadata": {},
   "outputs": [],
   "source": []
  }
 ],
 "metadata": {
  "kernelspec": {
   "display_name": "Python 3 (ipykernel)",
   "language": "python",
   "name": "python3"
  },
  "language_info": {
   "codemirror_mode": {
    "name": "ipython",
    "version": 3
   },
   "file_extension": ".py",
   "mimetype": "text/x-python",
   "name": "python",
   "nbconvert_exporter": "python",
   "pygments_lexer": "ipython3",
   "version": "3.12.8"
  }
 },
 "nbformat": 4,
 "nbformat_minor": 5
}
